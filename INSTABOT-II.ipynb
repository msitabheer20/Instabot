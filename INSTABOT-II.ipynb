{
 "cells": [
  {
   "cell_type": "markdown",
   "id": "d2602b03",
   "metadata": {},
   "source": [
    "# Project\n",
    "# InstaBot - Part 2"
   ]
  },
  {
   "cell_type": "markdown",
   "id": "d6a93416",
   "metadata": {},
   "source": [
    "## Necessary Imports:\n",
    "\n",
    "#### Note : All sleep and wait times are according to my network and processor speed so please consider it if the functions or excutions take more time"
   ]
  },
  {
   "cell_type": "code",
   "execution_count": 6,
   "id": "de3388fd",
   "metadata": {},
   "outputs": [],
   "source": [
    "from selenium import webdriver\n",
    "from selenium.webdriver.chrome.service import Service\n",
    "from selenium.webdriver.common.by import By\n",
    "import time\n",
    "from selenium.webdriver.support.ui import WebDriverWait\n",
    "from selenium.webdriver.support import expected_conditions as EC\n",
    "import time\n",
    "from selenium.common.exceptions import TimeoutException\n",
    "from selenium.common.exceptions import NoSuchElementException\n",
    "from bs4 import BeautifulSoup\n",
    "from collections import OrderedDict \n",
    "from datetime import datetime\n",
    "import matplotlib.pyplot as plt\n",
    "import pandas as pd\n",
    "\n",
    "service = Service(executable_path = 'G:\\coding ninjas notes\\files')\n",
    "driver = webdriver.Chrome(service = service)"
   ]
  },
  {
   "cell_type": "markdown",
   "id": "5ed5d118",
   "metadata": {},
   "source": [
    "# Some Necessary Functions :"
   ]
  },
  {
   "cell_type": "code",
   "execution_count": 7,
   "id": "9d5619e8",
   "metadata": {},
   "outputs": [],
   "source": [
    "# Following is a function to login to the instagram account using username and password\n",
    "# It takes two arguments :\n",
    "# insta_username - instagram username\n",
    "# insta_password - intagram password\n",
    "\n",
    "def instagram_login(insta_username, insta_password) :\n",
    "    \n",
    "    driver.get('https://www.instagram.com/')\n",
    "    driver.maximize_window()\n",
    "    #wait\n",
    "    userbox = WebDriverWait(driver, 10).until(EC.presence_of_element_located((By.NAME, 'username')))\n",
    "    userpass = driver.find_element(By.NAME, 'password')\n",
    "\n",
    "    userbox.send_keys(insta_username)\n",
    "    userpass.send_keys(insta_password)\n",
    "\n",
    "    btn = driver.find_element(By.TAG_NAME, 'button')\n",
    "    btn.submit()\n",
    "    # wait\n",
    "    not_now = WebDriverWait(driver, 10).until(EC.presence_of_element_located((By.XPATH, '//div[@class = \"_ac8f\"]')))\n",
    "    not_now.click()\n",
    "    \n",
    "    notification = WebDriverWait(driver, 10).until(EC.presence_of_element_located((By.XPATH, '//div[@class=\"_a9-z\"]/button[2]')))\n",
    "    notification.click()\n",
    "    return"
   ]
  },
  {
   "cell_type": "code",
   "execution_count": 8,
   "id": "cbebc1fc",
   "metadata": {},
   "outputs": [],
   "source": [
    "# Execution of function\n",
    "instagram_login('SAMPLE_USERNAME', 'SAMPLE_PASSWORD')"
   ]
  },
  {
   "cell_type": "code",
   "execution_count": 9,
   "id": "c63fec4f",
   "metadata": {},
   "outputs": [],
   "source": [
    "# following is a function to search something in the instagram's search tab\n",
    "# it takes one argument \"word\" which is to be searched or which the user want to search\n",
    "\n",
    "def instagram_search(word) :\n",
    "    \n",
    "    try:\n",
    "        # check if search tab is open\n",
    "        search_tab = driver.find_element(By.CLASS_NAME, '_aaw6')\n",
    "        # clearing the search box if something is written\n",
    "        clear = WebDriverWait(driver, 10).until(EC.presence_of_element_located((By.CLASS_NAME, '_9-lv')))\n",
    "        clear.click()\n",
    "        \n",
    "    except NoSuchElementException :\n",
    "        # if search tab is not open then opening it\n",
    "        search = driver.find_elements(By.XPATH, \"//div[@class = 'x1n2onr6']/a/div\")\n",
    "        search[1].click()\n",
    "        time.sleep(2)\n",
    "    \n",
    "    # finding the search box element\n",
    "    search_box = driver.find_element(By.CLASS_NAME, '_aauy')\n",
    "    # sending or typing the required keyword to be searched\n",
    "    search_box.send_keys(word)\n",
    "    return"
   ]
  },
  {
   "cell_type": "code",
   "execution_count": 10,
   "id": "c2aca4f6",
   "metadata": {},
   "outputs": [],
   "source": [
    "# Following is a function to fetch the results of a search i.e when we search something then the \n",
    "# results that comes below the search box is fetched by this function.\n",
    "# It takes one argument \"search_word\" which is the word to be searched and whose result is to be fetched\n",
    "# Note : Xpath is changing after some days so please consider this situation\n",
    "\n",
    "def search_result(search_word) :\n",
    "    # calling function first to search the required word\n",
    "    instagram_search(search_word)\n",
    "    # following is the xpath for the first element of the result of the above search word\n",
    "    path1 = \"/html/body/div[2]/div/div/div[2]/div/div/div/div[1]/div[1]/div[1]/div/div/div[2]/div/div/div[2]/div[2]/div/div[1]/a/div/div/div/div[2]/div/div/span[1]/span\"\n",
    "    #waiting for the elements to come\n",
    "    wait = WebDriverWait(driver, 10).until(EC.presence_of_element_located((By.XPATH, path1)))\n",
    "\n",
    "    names = []\n",
    "    i = 1\n",
    "    \n",
    "    # loop to extract all the elements excluding the ones with hashtags\n",
    "    while True:\n",
    "        try:\n",
    "            j = str(i)\n",
    "            path2 = \"/html/body/div[2]/div/div/div[2]/div/div/div/div[1]/div[1]/div[1]/div/div/div[2]/div/div/div[2]/div[2]/div/div[\" + j + \"]/a/div/div/div/div[2]/div/div/span[1]/span\"\n",
    "            elem = driver.find_element(By.XPATH, path2)\n",
    "            if elem.text != '' and elem.text[0] != '#':\n",
    "                names.append(elem.text)\n",
    "            i = i + 1\n",
    "        except NoSuchElementException:\n",
    "            break\n",
    "    return names"
   ]
  },
  {
   "cell_type": "code",
   "execution_count": 11,
   "id": "e0981e79",
   "metadata": {},
   "outputs": [],
   "source": [
    "# Following is a function to open an instagram's profile\n",
    "# It takes one argument \"profile_name\" which is to be opened\n",
    "\n",
    "def open_insta_profile(profile_name):\n",
    "    \n",
    "    # following try catch block checks if the profile is already opened or not if it is already open then\n",
    "    # reopening will not done thus saving time\n",
    "    try:\n",
    "        # finding the heading tag enclosing the profile name which show that the profile is open or not\n",
    "        # if heading tag is present then the enclosing text is matched with the required profile name\n",
    "        # if the text matches then the profile is already opened else not\n",
    "        find = driver.find_element(By.XPATH, '//h2[contains(@class, \"x1lliihq\")]')\n",
    "        txt = ''\n",
    "        profile = profile_name.lower().split(' ')\n",
    "        for i in profile :\n",
    "            txt += i\n",
    "        if find.text == txt:\n",
    "            return\n",
    "        else:\n",
    "            raise NoSuchElementException\n",
    "        \n",
    "    # if profile is not opened the program jumps to here\n",
    "    except NoSuchElementException :\n",
    "        \n",
    "        instagram_search(profile_name)\n",
    "        time.sleep(3)\n",
    "        \n",
    "        # since href is non changing attribute thats why the advantage of it is taken\n",
    "        h = ''\n",
    "        profile = profile_name.lower().split(' ')\n",
    "        for i in profile:\n",
    "            h += i\n",
    "        href = \"/\" + h + \"/\"\n",
    "        path3 = \"//a[@href = '\"+ href +\"']\"\n",
    "\n",
    "        name = WebDriverWait(driver, 10).until(EC.presence_of_element_located((By.XPATH, path3)))\n",
    "        time.sleep(3)\n",
    "        name.click()\n",
    "        btn = driver.find_element(By.XPATH, '//main[contains(@class, \"x78zum5\")]')\n",
    "        btn.click()\n",
    "    return"
   ]
  },
  {
   "cell_type": "markdown",
   "id": "f0e27fe0",
   "metadata": {},
   "source": [
    "# Problem-1 :\n",
    "\n",
    "## Now your friend has followed a lot of different food bloggers, he needs to analyse the habits of these bloggers.\n",
    "\n",
    "### 1. From the list of instagram handles you obtained when you searched ‘food’ in previous project. Open the first 10 handles and find the top 5 which have the highest number of followers"
   ]
  },
  {
   "cell_type": "code",
   "execution_count": 12,
   "id": "73394000",
   "metadata": {},
   "outputs": [],
   "source": [
    "# Following Function 'find_top_handles' finds the top 'count (here 5)' instagram \n",
    "# handles which have the Maximum Followers count \n",
    "# it takes two arguments :\n",
    "# 1. names_list - list of all the profiles among which top 5 is to be found\n",
    "# 2. count - Number of top profiles to be found (here top 5) \n",
    "\n",
    "# Note : I have used driver.get(url) function (inside 1st loop) because while normally \n",
    "# opening the profiles (by opening the search tab and then typing and opening \n",
    "# the respective profile) there were a lot of issues coming.\n",
    "\n",
    "def find_top_handles(names_list, count) :\n",
    "    \n",
    "    dct = {}\n",
    "    # It is asked in the question to use first 10 handles\n",
    "    for i in names_list[:10] :\n",
    "        driver.get(\"https://www.instagram.com/\"+i+\"/\")\n",
    "        follower = WebDriverWait(driver, 10).until(EC.presence_of_all_elements_located((By.CLASS_NAME, '_ac2a')))[1]\n",
    "        follower_cnt = int(follower.get_attribute('title').replace(',', ''))\n",
    "        dct[i] = follower_cnt\n",
    "\n",
    "    cnt = 0\n",
    "    res = OrderedDict()\n",
    "    for i in sorted(dct, key=dct.get, reverse=True):\n",
    "        res[i] = dct[i]\n",
    "        cnt += 1\n",
    "        if(cnt >= count) : \n",
    "            break\n",
    "    \n",
    "    return res"
   ]
  },
  {
   "cell_type": "code",
   "execution_count": 65,
   "id": "b2788af9",
   "metadata": {},
   "outputs": [],
   "source": [
    "# Execution of functions\n",
    "\n",
    "names_list = search_result(\"food\")\n",
    "top_handles = find_top_handles(names_list, 5)\n",
    "print(\"Top 5 Handles with highest Number of followers are : \")\n",
    "for i in top_handles:\n",
    "    print(i, \" (\", top_handles[i], \"followers )\")"
   ]
  },
  {
   "cell_type": "markdown",
   "id": "d6d11f65",
   "metadata": {},
   "source": [
    "### 2. Now Find the number of posts these handles have done in the previous 3 days."
   ]
  },
  {
   "cell_type": "code",
   "execution_count": 14,
   "id": "320b34f1",
   "metadata": {},
   "outputs": [],
   "source": [
    "# Following function finds the number of posts Done by a handle in the previous 'days_count'\n",
    "# days (here 3 days)\n",
    "# takes Number of previous days as argument\n",
    "\n",
    "def count_posts(days_count) :\n",
    "    \n",
    "    first_post = driver.find_element(By.CLASS_NAME, \"_aagw\")\n",
    "    first_post.click()\n",
    "    \n",
    "    cnt = 0\n",
    "    now = datetime.now()\n",
    "    while True:\n",
    "    \n",
    "        raw_date = WebDriverWait(driver, 10).until(EC.presence_of_element_located((By.CLASS_NAME, '_aaqe')))\n",
    "        date_string = raw_date.get_attribute('datetime')\n",
    "        date = datetime.strptime(date_string[0:19], \"%Y-%m-%dT%H:%M:%S\")\n",
    "        days = (now - date).days\n",
    "        if days > days_count:\n",
    "            break\n",
    "        else :\n",
    "            cnt += 1\n",
    "\n",
    "        btn = driver.find_element(By.CLASS_NAME, '_aaqg')\n",
    "        btn.click()\n",
    "        \n",
    "    close = driver.find_element(By.XPATH,'/html/body/div[2]/div/div/div[3]/div/div/div[1]/div/div[2]/div')\n",
    "    close.click()\n",
    "        \n",
    "    return cnt"
   ]
  },
  {
   "cell_type": "code",
   "execution_count": 15,
   "id": "ea508794",
   "metadata": {},
   "outputs": [],
   "source": [
    "# Execution of function\n",
    "\n",
    "posts_count = {}\n",
    "for i in top_handles:\n",
    "    driver.get(\"https://www.instagram.com/\"+i+\"/\")\n",
    "    time.sleep(5)\n",
    "    posts = count_posts(3)\n",
    "    posts_count[i] = posts"
   ]
  },
  {
   "cell_type": "code",
   "execution_count": 16,
   "id": "59a91a4b",
   "metadata": {},
   "outputs": [
    {
     "name": "stdout",
     "output_type": "stream",
     "text": [
      "Number Of Posts that is uploaded by the top handles in 3 days are : \n",
      "dilsefoodie : 6\n",
      "foodtalkindia : 3\n",
      "food : 0\n",
      "food_lunatic : 3\n",
      "delhifoodguide : 0\n"
     ]
    }
   ],
   "source": [
    "print(\"Number Of Posts that is uploaded by the top handles in 3 days are : \")\n",
    "for i in posts_count:\n",
    "    print(i, \":\", posts_count[i])"
   ]
  },
  {
   "cell_type": "markdown",
   "id": "48fb7982",
   "metadata": {},
   "source": [
    "### 3. Depict this information using a suitable graph."
   ]
  },
  {
   "cell_type": "code",
   "execution_count": 18,
   "id": "622e24a2",
   "metadata": {},
   "outputs": [
    {
     "data": {
      "image/png": "[encoded data removed]",
      "text/plain": [
       "<Figure size 640x480 with 1 Axes>"
      ]
     },
     "metadata": {},
     "output_type": "display_data"
    }
   ],
   "source": [
    "x = posts_count.keys()\n",
    "y = posts_count.values()\n",
    "colors = ['green', 'red', 'blue', 'purple', 'orange']\n",
    "plt.bar(x,y,color=colors)\n",
    "plt.ylabel(\"Number of posts (past 3 days)\")\n",
    "plt.xlabel(\"Handle Names\")\n",
    "plt.xticks(rotation = 25)\n",
    "plt.title('Most Followed Handles vs Number of recent posts ')\n",
    "plt.show()"
   ]
  },
  {
   "cell_type": "markdown",
   "id": "5cdc322e",
   "metadata": {},
   "source": [
    "# Problem-2:\n",
    "\n",
    "## Your friend also needs a list of hashtags that he should use in his posts.\n",
    "\n",
    "### 1. Open the 5 handles you obtained in the last question, and scrape the content of the first 10 posts of each handle."
   ]
  },
  {
   "cell_type": "code",
   "execution_count": 19,
   "id": "7a70c583",
   "metadata": {},
   "outputs": [],
   "source": [
    "# Following Function is to scrape or extract all the hashtags from a particular number of posts\n",
    "# done by several handles\n",
    "# It takes two parameters as arguments :\n",
    "# 1. top_handles - dictionary or list containing the top handles names\n",
    "# 2. no_of_posts - Number of posts to be scraped\n",
    "\n",
    "def scrape_words(top_handles, no_of_posts) :\n",
    "    \n",
    "    hashtags = []\n",
    "    for i in top_handles:\n",
    "        driver.get(\"https://www.instagram.com/\"+i+\"/\")\n",
    "        time.sleep(5)\n",
    "        first_post = driver.find_element(By.CLASS_NAME, \"_aagw\")\n",
    "        first_post.click()\n",
    "        \n",
    "        for i in range(no_of_posts):\n",
    "  \n",
    "            try:\n",
    "                hashtag = driver.find_elements(By.XPATH, '//div[@class = \"_a9zs\"]/h1/a')\n",
    "                for i in hashtag:\n",
    "                    if i.text[0] == '#':\n",
    "                        hashtags.append(i.text)\n",
    "                btn = driver.find_element(By.CLASS_NAME, '_aaqg')\n",
    "                btn.click()\n",
    "            except NoSuchElementException:\n",
    "                break\n",
    "                \n",
    "    close = driver.find_element(By.XPATH, '/html/body/div[2]/div/div/div[3]/div/div/div[1]/div/div[2]/div/div')\n",
    "    close.click()\n",
    "    return hashtags"
   ]
  },
  {
   "cell_type": "code",
   "execution_count": 20,
   "id": "bef2ad11",
   "metadata": {},
   "outputs": [
    {
     "name": "stdout",
     "output_type": "stream",
     "text": [
      "foodtalkindia\n",
      "food_lunatic\n",
      "foodisnirvana\n",
      "tasty.foodrecipes\n",
      "delhifoodguide\n",
      "no_karma_food\n",
      "food\n",
      "dilsefoodie\n",
      "foodie_flatlay\n",
      "foodiesdelhite\n",
      "delhieater\n",
      "caarafood\n",
      "reneechopra\n",
      "foodbellydelites\n",
      "foodiesince96\n",
      "delhifoodblogger\n",
      "runaway_foodies\n",
      "delishdirection\n",
      "foodconnectindia\n",
      "komalchawlaofficial\n",
      "foodelhi\n",
      "yourfoodlab\n",
      "foodporn\n",
      "foodbloggerai\n",
      "karanfoodfanatic\n",
      "delhidelites\n",
      "foodiliciousmoments\n",
      "thisisdelhi\n",
      "foodiebyheart2.0\n",
      "foodpandaindia\n",
      "food.finista\n",
      "foodie_okhla\n",
      "food_feels\n",
      "foodmastarni\n",
      "foodhallindia\n",
      "whaaatislife\n",
      "dillifoodjunkie\n",
      "indianfoodfreak\n",
      "foodiedelhiwali\n",
      "delhi_foodaholic\n",
      "foodchrome\n",
      "back2basics_foods\n",
      "foodbabyny\n",
      "thelittlefoodjournal\n",
      "insiderfood\n",
      "thefoodcultt\n",
      "sortedfood\n",
      "delhitimes.food\n",
      "foodinc.yumyumtree\n",
      "delhifoodking\n",
      "['#dilsefoodie', '#dilsecouple', '#foodie', '#food', '#ipl', '#cricket', '#dilsefoodie', '#nihari', '#kulcha', '#nonveg', '#lucknow', '#ramzan', '#dilsefoodie', '#dilsecouple', '#cholekulche', '#foodie', '#food', '#dilsefoodie', '#dilsecouple', '#foodie', '#vaisakhi', '#dilsefoodie', '#dilsecouple', '#foodie', '#food', '#buffet', '#dilsefoodie', '#foodie', '#icecream', '#chaat', '#bhalle', '#dilsefoodie', '#dilsecouple', '#food', '#vaishali', '#dilsefoodie', '#dilsecouple', '#pavitdua', '#waheguru', '#dilsefoodie', '#dilsecouple', '#foodie', '#springrolls', '#chinese', '#StreetIcons', '#delhi6', '#chaat', '#bhandar', '#streetsnacks', '#food', '#foodtalkindia', '#foodiesofindia', '#foodblogger', '#delicious', '#yummy', '#instafood', '#discover', '#delhi', '#beers', '#brewery', '#food', '#foodtalkindia', '#foodiesofindia', '#foodblogger', '#delicious', '#yummy', '#instafood', '#discover', '#ramadan', '#eid', '#feast', '#phirni', '#biryani', '#kebabs', '#foodtalkindia', '#foodiesofindia', '#foodblogger', '#delicious', '#yummy', '#instafood', '#discover', '#tahini', '#middleastern', '#deliverykitchen', '#foodtalkindia', '#foodiesofindia', '#foodblogger', '#delicious', '#yummy', '#instafood', '#discover', '#ftiinsider', '#coffee', '#cafe', '#mumbai', '#caffeine', '#drinks', '#food', '#foodtalkindia', '#foodiesofindia', '#foodblogger', '#delicious', '#yummy', '#instafood', '#discover', '#delhi', '#anthem', '#agency', '#foodtalkindia', '#foodiesofindia', '#foodblogger', '#delicious', '#yummy', '#instafood', '#discover', '#frozenmomos', '#momos', '#frozenfood', '#brands', '#food', '#foodtalkindia', '#foodiesofindia', '#foodblogger', '#delicious', '#yummy', '#instafood', '#discover', '#INJA', '#Indian', '#Japanese', '#restaurant', '#food', '#foodtalkindia', '#foodiesofindia', '#yummy', '#instafood', '#discover', '#delhi', '#pokebowls', '#flavours', '#food', '#foodtalkindia', '#foodiesofindia', '#foodblogger', '#delicious', '#yummy', '#instafood', '#discover', '#KeepItOscar', '#oscarmayer', '#oscarmayerwienermobile', '#oscarmayerweiner', '#oscarmayercontest', '#weddingseason', '#weddingseason23', '#wedding', '#weddingvenue', '#weddingideas', '#weddings', '#vegas', '#lasvegas', '#lasvegasstrip', '#hotdog', '#hotdogs', '#hotdogs🌭', '#hotdog🌭', '#hotdoglovers', '#easter', '#eastersunday', '#eastertreats', '#easteregghunt', '#easteregg', '#easterdecor', '#eastereggs', '#easterbunny', '#easterpotato', '#potato', '#potatoes', '#croissant', '#foodie', '#foodhacks', '#viralfood', '#viralreels', '#tiktok', '#cooking', '#SuperMarioMovie', '#HotSauce', '#Collectible', '#Truff', '#restaurant', '#restaurants', '#restaurantindustry', '#asianfood', '#sushi', '#sushilovers', '#sushi🍣', '#dallas', '#dallastx', '#miami', '#Dunkaccino', '#DunkinDonuts', '#HotChocolate', '#Coffee', '#americarunsondunkin', '#alpacino', '#adamsandler', '#funnyvideos', '#funny', '#viral', '#viralvideos', '#baseball', '#baseballlove', '#baseballseason', '#openingday', '#OpeningDay2023', '#mlb', '#ballgame', '#hotdogs🌭', '#hotdogs', '#hotdog', '#hotdoglovers', '#hotdogstand', '#kith', '#kithtreats', '#miami', '#majorfoodgroup', '#Staycation', '#Weekend', '#Episode2', '#FoodForGlowingSkin', '#recipe', '#recipevideo', '#naturecereal', '#viral', '#healthybreakfast', '#tasty', '#trending', '#healthy', '#fruits', '#summerrecipes', '#namakshamak', '#fun', '#feelkaroreelkaro', '#harpalsinghsokhi', '#chefharpalsingh', '#explore', '#korean', '#koreansnacks', '#majnukatila', '#explore', '#koreanculture', '#korea', '#exploredelhi', '#minivlog', '#busan', '#contentcreator', '#content', '#gadgets', '#informativereels', '#feelkaroreelkaro', '#creators', '#musthaves', '#amazonfinds', '#explore', '#quickrecipes', '#recipe', '#summers', '#watermelon', '#summerdrinks', '#refreshing', '#recipevideo', '#trending', '#tasty', '#foodblogger', '#easyrecipe', '#asmr', '#bff', '#trend', '#trending', '#baakisabtheek', '#relatable', '#funny', '#feelkaroreelkaro', '#pmsproblems', '#ZeroWaste', '#viral', '#trending', '#guavajuice', '#recipe', '#recipevideo', '#mumbaistreetfood', '#zerowasteguavajuice', '#CholeKulche', '#KFCIndia', '#ConnaughtPlace', '#NewDelhi', '#Design', '#Decor', '#Foodies', '#drishyam2', '#Amritsarfood', '#kesardadhaba', '#lacchaparatha', '#dalmakhani', '#amritsari']\n"
     ]
    }
   ],
   "source": [
    "# Below two comments are because these were already calculated before :\n",
    "\n",
    "# names_list = search_result(\"food\")\n",
    "# top_handles = find_top_handles(names_list, 5)\n",
    "\n",
    "tags = scrape_words(top_handles, 10)\n",
    "print(tags)"
   ]
  },
  {
   "cell_type": "markdown",
   "id": "b108c1ea",
   "metadata": {},
   "source": [
    "### 2. Prepare a list of all words used in all the scraped posts and calculate the frequency of each word."
   ]
  },
  {
   "cell_type": "code",
   "execution_count": 22,
   "id": "4a1751c1",
   "metadata": {},
   "outputs": [
    {
     "name": "stdout",
     "output_type": "stream",
     "text": [
      "Names of Hashtags with their frequency : \n",
      "#dilsefoodie : 9\n",
      "#dilsecouple : 7\n",
      "#foodie : 7\n",
      "#food : 10\n",
      "#ipl : 1\n",
      "#cricket : 1\n",
      "#nihari : 1\n",
      "#kulcha : 1\n",
      "#nonveg : 1\n",
      "#lucknow : 1\n",
      "#ramzan : 1\n",
      "#cholekulche : 1\n",
      "#vaisakhi : 1\n",
      "#buffet : 1\n",
      "#icecream : 1\n",
      "#chaat : 2\n",
      "#bhalle : 1\n",
      "#vaishali : 1\n",
      "#pavitdua : 1\n",
      "#waheguru : 1\n",
      "#springrolls : 1\n",
      "#chinese : 1\n",
      "#StreetIcons : 1\n",
      "#delhi6 : 1\n",
      "#bhandar : 1\n",
      "#streetsnacks : 1\n",
      "#foodtalkindia : 9\n",
      "#foodiesofindia : 9\n",
      "#foodblogger : 9\n",
      "#delicious : 8\n",
      "#yummy : 9\n",
      "#instafood : 9\n",
      "#discover : 9\n",
      "#delhi : 3\n",
      "#beers : 1\n",
      "#brewery : 1\n",
      "#ramadan : 1\n",
      "#eid : 1\n",
      "#feast : 1\n",
      "#phirni : 1\n",
      "#biryani : 1\n",
      "#kebabs : 1\n",
      "#tahini : 1\n",
      "#middleastern : 1\n",
      "#deliverykitchen : 1\n",
      "#ftiinsider : 1\n",
      "#coffee : 1\n",
      "#cafe : 1\n",
      "#mumbai : 1\n",
      "#caffeine : 1\n",
      "#drinks : 1\n",
      "#anthem : 1\n",
      "#agency : 1\n",
      "#frozenmomos : 1\n",
      "#momos : 1\n",
      "#frozenfood : 1\n",
      "#brands : 1\n",
      "#INJA : 1\n",
      "#Indian : 1\n",
      "#Japanese : 1\n",
      "#restaurant : 2\n",
      "#pokebowls : 1\n",
      "#flavours : 1\n",
      "#KeepItOscar : 1\n",
      "#oscarmayer : 1\n",
      "#oscarmayerwienermobile : 1\n",
      "#oscarmayerweiner : 1\n",
      "#oscarmayercontest : 1\n",
      "#weddingseason : 1\n",
      "#weddingseason23 : 1\n",
      "#wedding : 1\n",
      "#weddingvenue : 1\n",
      "#weddingideas : 1\n",
      "#weddings : 1\n",
      "#vegas : 1\n",
      "#lasvegas : 1\n",
      "#lasvegasstrip : 1\n",
      "#hotdog : 2\n",
      "#hotdogs : 2\n",
      "#hotdogs🌭 : 2\n",
      "#hotdog🌭 : 1\n",
      "#hotdoglovers : 2\n",
      "#easter : 1\n",
      "#eastersunday : 1\n",
      "#eastertreats : 1\n",
      "#easteregghunt : 1\n",
      "#easteregg : 1\n",
      "#easterdecor : 1\n",
      "#eastereggs : 1\n",
      "#easterbunny : 1\n",
      "#easterpotato : 1\n",
      "#potato : 1\n",
      "#potatoes : 1\n",
      "#croissant : 1\n",
      "#foodhacks : 1\n",
      "#viralfood : 1\n",
      "#viralreels : 1\n",
      "#tiktok : 1\n",
      "#cooking : 1\n",
      "#SuperMarioMovie : 1\n",
      "#HotSauce : 1\n",
      "#Collectible : 1\n",
      "#Truff : 1\n",
      "#restaurants : 1\n",
      "#restaurantindustry : 1\n",
      "#asianfood : 1\n",
      "#sushi : 1\n",
      "#sushilovers : 1\n",
      "#sushi🍣 : 1\n",
      "#dallas : 1\n",
      "#dallastx : 1\n",
      "#miami : 2\n",
      "#Dunkaccino : 1\n",
      "#DunkinDonuts : 1\n",
      "#HotChocolate : 1\n",
      "#Coffee : 1\n",
      "#americarunsondunkin : 1\n",
      "#alpacino : 1\n",
      "#adamsandler : 1\n",
      "#funnyvideos : 1\n",
      "#funny : 2\n",
      "#viral : 3\n",
      "#viralvideos : 1\n",
      "#baseball : 1\n",
      "#baseballlove : 1\n",
      "#baseballseason : 1\n",
      "#openingday : 1\n",
      "#OpeningDay2023 : 1\n",
      "#mlb : 1\n",
      "#ballgame : 1\n",
      "#hotdogstand : 1\n",
      "#kith : 1\n",
      "#kithtreats : 1\n",
      "#majorfoodgroup : 1\n",
      "#Staycation : 1\n",
      "#Weekend : 1\n",
      "#Episode2 : 1\n",
      "#FoodForGlowingSkin : 1\n",
      "#recipe : 3\n",
      "#recipevideo : 3\n",
      "#naturecereal : 1\n",
      "#healthybreakfast : 1\n",
      "#tasty : 2\n",
      "#trending : 4\n",
      "#healthy : 1\n",
      "#fruits : 1\n",
      "#summerrecipes : 1\n",
      "#namakshamak : 1\n",
      "#fun : 1\n",
      "#feelkaroreelkaro : 3\n",
      "#harpalsinghsokhi : 1\n",
      "#chefharpalsingh : 1\n",
      "#explore : 3\n",
      "#korean : 1\n",
      "#koreansnacks : 1\n",
      "#majnukatila : 1\n",
      "#koreanculture : 1\n",
      "#korea : 1\n",
      "#exploredelhi : 1\n",
      "#minivlog : 1\n",
      "#busan : 1\n",
      "#contentcreator : 1\n",
      "#content : 1\n",
      "#gadgets : 1\n",
      "#informativereels : 1\n",
      "#creators : 1\n",
      "#musthaves : 1\n",
      "#amazonfinds : 1\n",
      "#quickrecipes : 1\n",
      "#summers : 1\n",
      "#watermelon : 1\n",
      "#summerdrinks : 1\n",
      "#refreshing : 1\n",
      "#easyrecipe : 1\n",
      "#asmr : 1\n",
      "#bff : 1\n",
      "#trend : 1\n",
      "#baakisabtheek : 1\n",
      "#relatable : 1\n",
      "#pmsproblems : 1\n",
      "#ZeroWaste : 1\n",
      "#guavajuice : 1\n",
      "#mumbaistreetfood : 1\n",
      "#zerowasteguavajuice : 1\n",
      "#CholeKulche : 1\n",
      "#KFCIndia : 1\n",
      "#ConnaughtPlace : 1\n",
      "#NewDelhi : 1\n",
      "#Design : 1\n",
      "#Decor : 1\n",
      "#Foodies : 1\n",
      "#drishyam2 : 1\n",
      "#Amritsarfood : 1\n",
      "#kesardadhaba : 1\n",
      "#lacchaparatha : 1\n",
      "#dalmakhani : 1\n",
      "#amritsari : 1\n"
     ]
    }
   ],
   "source": [
    "dct = {}\n",
    "\n",
    "for i in tags:\n",
    "    dct[i] = dct.get(i, 0) + 1\n",
    "\n",
    "# this below list will be used further \n",
    "sortedHashtags = []\n",
    "\n",
    "for i in sorted(dct, key = dct.get, reverse = True):\n",
    "    sortedHashtags.append([i,dct[i]])\n",
    "\n",
    "print(\"Names of Hashtags with their frequency : \")\n",
    "for tag in dct :\n",
    "    print(tag, \":\", dct[tag])"
   ]
  },
  {
   "cell_type": "markdown",
   "id": "01e54eed",
   "metadata": {},
   "source": [
    "### 3. Create a csv file with two columns : the word and its frequency"
   ]
  },
  {
   "cell_type": "code",
   "execution_count": 23,
   "id": "163e70c1",
   "metadata": {},
   "outputs": [
    {
     "data": {
      "text/html": [
       "<div>\n",
       "<style scoped>\n",
       "    .dataframe tbody tr th:only-of-type {\n",
       "        vertical-align: middle;\n",
       "    }\n",
       "\n",
       "    .dataframe tbody tr th {\n",
       "        vertical-align: top;\n",
       "    }\n",
       "\n",
       "    .dataframe thead th {\n",
       "        text-align: right;\n",
       "    }\n",
       "</style>\n",
       "<table border=\"1\" class=\"dataframe\">\n",
       "  <thead>\n",
       "    <tr style=\"text-align: right;\">\n",
       "      <th></th>\n",
       "      <th>Words</th>\n",
       "      <th>Frequency</th>\n",
       "    </tr>\n",
       "  </thead>\n",
       "  <tbody>\n",
       "    <tr>\n",
       "      <th>0</th>\n",
       "      <td>#food</td>\n",
       "      <td>10</td>\n",
       "    </tr>\n",
       "    <tr>\n",
       "      <th>1</th>\n",
       "      <td>#dilsefoodie</td>\n",
       "      <td>9</td>\n",
       "    </tr>\n",
       "    <tr>\n",
       "      <th>2</th>\n",
       "      <td>#foodtalkindia</td>\n",
       "      <td>9</td>\n",
       "    </tr>\n",
       "    <tr>\n",
       "      <th>3</th>\n",
       "      <td>#foodiesofindia</td>\n",
       "      <td>9</td>\n",
       "    </tr>\n",
       "    <tr>\n",
       "      <th>4</th>\n",
       "      <td>#foodblogger</td>\n",
       "      <td>9</td>\n",
       "    </tr>\n",
       "    <tr>\n",
       "      <th>5</th>\n",
       "      <td>#yummy</td>\n",
       "      <td>9</td>\n",
       "    </tr>\n",
       "    <tr>\n",
       "      <th>6</th>\n",
       "      <td>#instafood</td>\n",
       "      <td>9</td>\n",
       "    </tr>\n",
       "    <tr>\n",
       "      <th>7</th>\n",
       "      <td>#discover</td>\n",
       "      <td>9</td>\n",
       "    </tr>\n",
       "    <tr>\n",
       "      <th>8</th>\n",
       "      <td>#delicious</td>\n",
       "      <td>8</td>\n",
       "    </tr>\n",
       "    <tr>\n",
       "      <th>9</th>\n",
       "      <td>#dilsecouple</td>\n",
       "      <td>7</td>\n",
       "    </tr>\n",
       "  </tbody>\n",
       "</table>\n",
       "</div>"
      ],
      "text/plain": [
       "             Words  Frequency\n",
       "0            #food         10\n",
       "1     #dilsefoodie          9\n",
       "2   #foodtalkindia          9\n",
       "3  #foodiesofindia          9\n",
       "4     #foodblogger          9\n",
       "5           #yummy          9\n",
       "6       #instafood          9\n",
       "7        #discover          9\n",
       "8       #delicious          8\n",
       "9     #dilsecouple          7"
      ]
     },
     "execution_count": 23,
     "metadata": {},
     "output_type": "execute_result"
    }
   ],
   "source": [
    "# pandas function is used to convert list to pandas dataframe\n",
    "# Then pandas function is used to convert the dataframe to csv file with provided name\n",
    "\n",
    "df = pd.DataFrame(sortedHashtags, columns =[\"Words\", \"Frequency\"]) \n",
    "df.reset_index(drop=True, inplace=True)\n",
    "df.to_csv('words_frequency.csv',index=False)\n",
    "df.head(10)"
   ]
  },
  {
   "cell_type": "markdown",
   "id": "c20b968f",
   "metadata": {},
   "source": [
    "### 4. Now, find the hashtags that were most popular among these bloggers"
   ]
  },
  {
   "cell_type": "code",
   "execution_count": 25,
   "id": "1f2e3c6b",
   "metadata": {},
   "outputs": [
    {
     "name": "stdout",
     "output_type": "stream",
     "text": [
      "top 5 Most Popular Hashtags are : \n",
      "#food\n",
      "#dilsefoodie\n",
      "#foodtalkindia\n",
      "#foodiesofindia\n",
      "#foodblogger\n"
     ]
    }
   ],
   "source": [
    "# sortedHashtags is a list of list containing the Hashtags name with their frequency arranged\n",
    "# in decreasing order (this list is already computed before)\n",
    "\n",
    "print(\"top 5 Most Popular Hashtags are : \")\n",
    "for i in range(5) :\n",
    "    print(sortedHashtags[i][0])"
   ]
  },
  {
   "cell_type": "markdown",
   "id": "ff667b39",
   "metadata": {},
   "source": [
    "### 5. Plot a Pie Chart of the top 5 hashtags obtained and the number of times they were used by these bloggers in the scraped posts."
   ]
  },
  {
   "cell_type": "code",
   "execution_count": 26,
   "id": "31c7f120",
   "metadata": {},
   "outputs": [
    {
     "data": {
      "image/png": "[encoded data removed]",
      "text/plain": [
       "<Figure size 640x480 with 1 Axes>"
      ]
     },
     "metadata": {},
     "output_type": "display_data"
    }
   ],
   "source": [
    "names = []\n",
    "for i in range(5):\n",
    "    names.append(sortedHashtags[i][0])\n",
    "freq = []\n",
    "for i in range(5):\n",
    "    freq.append(sortedHashtags[i][1])\n",
    "    \n",
    "plt.pie(freq, labels = names, autopct='%0.2f%%')\n",
    "plt.title(\"Pie Chart representing top 5 Used Hashtags\")\n",
    "plt.show()"
   ]
  },
  {
   "cell_type": "markdown",
   "id": "8043b21b",
   "metadata": {},
   "source": [
    "# Problem-3:\n",
    "\n",
    "## You need to also calculate average followers : likes ratio for the obtained handles. Followers : Likes ratio is calculated as follows:\n",
    "\n",
    "### 1. Find out the likes of the top 10 posts of the 5 handles obtained earlier."
   ]
  },
  {
   "cell_type": "code",
   "execution_count": 31,
   "id": "80f473a5",
   "metadata": {},
   "outputs": [],
   "source": [
    "# Following Function 'find_likes' finds the likes count on several instagram \n",
    "# handle's posts \n",
    "# it takes two arguments :\n",
    "# 1. handle - list of all the profiles whose posts is to be scraped for likes count\n",
    "# 2. no_of_posts - Number of posts to be scraped for likes count\n",
    "\n",
    "# Note : I have used driver.get(url) function because while normally opening the profiles \n",
    "# (by opening the search tab and then typing and opening the respective profile) there were \n",
    "# a lot of issues coming.\n",
    "\n",
    "def find_likes(handle, no_of_posts) :\n",
    "    \n",
    "    total_posts = driver.find_element(By.XPATH, '/html/body/div[2]/div/div/div[2]/div/div/div/div[1]/div[1]/div[2]/div[2]/section/main/div/header/section/ul/li[1]/span/span').text\n",
    "    total_posts = int(total_posts.replace(',', ''))\n",
    "    if(no_of_posts > total_posts) :\n",
    "        print(\"argument 'no_of_posts' is greater than total posts\")\n",
    "        return\n",
    "    \n",
    "    handle_like = []\n",
    "    driver.get(\"https://www.instagram.com/\"+i+\"/\")\n",
    "    time.sleep(5)\n",
    "    first_post = driver.find_element(By.CLASS_NAME, \"_aagw\")\n",
    "    first_post.click()\n",
    "\n",
    "    while True:\n",
    "        try:\n",
    "            try:\n",
    "                like_cnt = driver.find_element(By.XPATH, '/html/body/div[2]/div/div/div[3]/div/div/div[1]/div/div[3]/div/div/div/div/div[2]/div/article/div/div[2]/div/div/div[2]/section[2]/div/div/span/a/span/span').text\n",
    "                like_cnt = int(like_cnt.replace(',', ''))\n",
    "            except NoSuchElementException:\n",
    "                btn = driver.find_element(By.CLASS_NAME, '_aaqg')\n",
    "                btn.click()\n",
    "                continue\n",
    "            handle_like.append(like_cnt)\n",
    "            if len(handle_like) == no_of_posts:\n",
    "                break\n",
    "            btn = driver.find_element(By.CLASS_NAME, '_aaqg')\n",
    "            btn.click()\n",
    "        except NoSuchElementException:\n",
    "            break\n",
    "    return handle_like"
   ]
  },
  {
   "cell_type": "code",
   "execution_count": 32,
   "id": "64b4676c",
   "metadata": {},
   "outputs": [
    {
     "name": "stdout",
     "output_type": "stream",
     "text": [
      "Likes of  dilsefoodie :\n",
      "5061 likes\n",
      "1539 likes\n",
      "6831 likes\n",
      "12258 likes\n",
      "8935 likes\n",
      "6236 likes\n",
      "4651 likes\n",
      "14956 likes\n",
      "34317 likes\n",
      "13915 likes\n",
      "Likes of  foodtalkindia :\n",
      "350 likes\n",
      "610 likes\n",
      "185 likes\n",
      "523 likes\n",
      "488 likes\n",
      "607 likes\n",
      "125 likes\n",
      "507 likes\n",
      "1156 likes\n",
      "454 likes\n",
      "Likes of  food :\n",
      "164 likes\n",
      "847 likes\n",
      "215 likes\n",
      "372 likes\n",
      "883 likes\n",
      "467 likes\n",
      "89 likes\n",
      "561 likes\n",
      "601 likes\n",
      "1008 likes\n",
      "Likes of  food_lunatic :\n",
      "428 likes\n",
      "1739 likes\n",
      "1791 likes\n",
      "1714 likes\n",
      "1027 likes\n",
      "2052 likes\n",
      "1424 likes\n",
      "920 likes\n",
      "1346 likes\n",
      "1314 likes\n",
      "Likes of  delhifoodguide :\n",
      "250 likes\n",
      "423 likes\n",
      "785 likes\n",
      "1032 likes\n",
      "145 likes\n",
      "495 likes\n",
      "328 likes\n",
      "296 likes\n",
      "245 likes\n",
      "1992 likes\n"
     ]
    }
   ],
   "source": [
    "# Excecution of Function\n",
    "\n",
    "likes = {}\n",
    "\n",
    "for i in top_handles:\n",
    "    like_count = find_likes(i, 10)\n",
    "    likes[i] = like_count\n",
    "    print(\"Likes of \", i, \":\")\n",
    "    for j in like_count:\n",
    "        print(str(j), \"likes\")"
   ]
  },
  {
   "cell_type": "markdown",
   "id": "bf3f0e08",
   "metadata": {},
   "source": [
    "### 2. Calculate the average likes for a handle."
   ]
  },
  {
   "cell_type": "code",
   "execution_count": 33,
   "id": "9a8d52c8",
   "metadata": {},
   "outputs": [
    {
     "name": "stdout",
     "output_type": "stream",
     "text": [
      "Average Likes for each Handle are : \n",
      "dilsefoodie : 10869\n",
      "foodtalkindia : 500\n",
      "food : 520\n",
      "food_lunatic : 1375\n",
      "delhifoodguide : 599\n"
     ]
    }
   ],
   "source": [
    "# Since only 10 posts were asked to check therefore average is calculated as :\n",
    "# average = total likes on 10 posts / 10 \n",
    "# double forward slash '//' denotes integer division or floor division\n",
    "\n",
    "avg_likes = {}\n",
    "for i in likes :\n",
    "    avg_likes[i] = sum(likes[i]) // 10\n",
    "\n",
    "print(\"Average Likes for each Handle are : \")\n",
    "for key,val in avg_likes.items() :\n",
    "    print(key, ':', val)"
   ]
  },
  {
   "cell_type": "markdown",
   "id": "7663b46b",
   "metadata": {},
   "source": [
    "### 3. Divide the average likes obtained from the number of followers of the handle to get the average followers:like ratio of each handle."
   ]
  },
  {
   "cell_type": "code",
   "execution_count": 51,
   "id": "7fbc3afc",
   "metadata": {},
   "outputs": [],
   "source": [
    "# Following function finds the average followers:like ratio of each handle\n",
    "# It takes three arguments :\n",
    "# 1. top_handles - dictionary containing top handles names and follower count\n",
    "# 2. avg_likes - dictionary containing top handle names and average likes \n",
    "# 3. handle_name - list containing names of top handles\n",
    "\n",
    "def find_avg_followers_like_ratio(top_handles, avg_likes, handle_name) :\n",
    "    \n",
    "    ratio = {}\n",
    "    \n",
    "    for i in range(len(handle_name)) :\n",
    "        \n",
    "        key = handle_name[i]\n",
    "        val = top_handles[key] // avg_likes[key]\n",
    "        \n",
    "        ratio[key] = val\n",
    "        \n",
    "    return ratio"
   ]
  },
  {
   "cell_type": "code",
   "execution_count": 54,
   "id": "4b34697a",
   "metadata": {},
   "outputs": [
    {
     "name": "stdout",
     "output_type": "stream",
     "text": [
      "Average followers:like ratio of each handle is as follows :\n",
      "dilsefoodie : 100\n",
      "foodtalkindia : 619\n",
      "food : 351\n",
      "food_lunatic : 100\n",
      "delhifoodguide : 167\n"
     ]
    }
   ],
   "source": [
    "# Excecution of Function\n",
    "\n",
    "handle_name = list(top_handles.keys())\n",
    "ratio = find_avg_followers_like_ratio(top_handles, avg_likes, handle_name)\n",
    "\n",
    "print('Average followers:like ratio of each handle is as follows :')\n",
    "for handle in ratio :\n",
    "    print(handle, ':', ratio[handle])"
   ]
  },
  {
   "cell_type": "markdown",
   "id": "838ba115",
   "metadata": {},
   "source": [
    "### 4. Create a bar graph to depict the above obtained information."
   ]
  },
  {
   "cell_type": "code",
   "execution_count": 60,
   "id": "28a49c81",
   "metadata": {},
   "outputs": [
    {
     "data": {
      "image/png": "[encoded data removed]",
      "text/plain": [
       "<Figure size 640x480 with 1 Axes>"
      ]
     },
     "metadata": {},
     "output_type": "display_data"
    }
   ],
   "source": [
    "# Two Bar Graphs are represented here :\n",
    "# 1. Most Followed Handles vs Average Likes\n",
    "# 2. Most Followed Handles vs Followers to Likes ratio\n",
    "\n",
    "handles = list(avg_likes.keys())\n",
    "likes = list(avg_likes.values())\n",
    "\n",
    "colors = ['green', 'red', 'blue', 'purple', 'orange']\n",
    "plt.bar(handles,likes,color=colors, edgecolor='black')\n",
    "plt.ylabel(\"Average Likes on first 10 posts\")\n",
    "plt.xlabel(\"Handle Names\")\n",
    "plt.xticks(rotation = 25)\n",
    "plt.title('Most Followed Handles vs Average Likes')\n",
    "plt.show()"
   ]
  },
  {
   "cell_type": "code",
   "execution_count": 64,
   "id": "34926d54",
   "metadata": {},
   "outputs": [
    {
     "data": {
      "image/png": "[encoded data removed]",
      "text/plain": [
       "<Figure size 640x480 with 1 Axes>"
      ]
     },
     "metadata": {},
     "output_type": "display_data"
    }
   ],
   "source": [
    "handles = list(ratio.keys())\n",
    "ratios = list(ratio.values())\n",
    "\n",
    "colors = ['green', 'red', 'blue', 'purple', 'orange']\n",
    "plt.bar(handles,ratios,color=colors, edgecolor='black')\n",
    "plt.ylabel(\"Ratio (Average followers:like ratio of each handle)\")\n",
    "plt.xlabel(\"Handle Names\")\n",
    "plt.xticks(rotation = 25)\n",
    "plt.title('Most Followed Handles vs Followers to Likes ratio')\n",
    "plt.show()"
   ]
  },
  {
   "cell_type": "code",
   "execution_count": 78,
   "id": "e380de6d",
   "metadata": {},
   "outputs": [
    {
     "data": {
      "text/plain": [
       "104"
      ]
     },
     "execution_count": 78,
     "metadata": {},
     "output_type": "execute_result"
    }
   ],
   "source": [
    "a = [96, 100, 106, 114]\n",
    "sum(a)//len(a)"
   ]
  }
 ],
 "metadata": {
  "kernelspec": {
   "display_name": "Python 3 (ipykernel)",
   "language": "python",
   "name": "python3"
  },
  "language_info": {
   "codemirror_mode": {
    "name": "ipython",
    "version": 3
   },
   "file_extension": ".py",
   "mimetype": "text/x-python",
   "name": "python",
   "nbconvert_exporter": "python",
   "pygments_lexer": "ipython3",
   "version": "3.9.13"
  }
 },
 "nbformat": 4,
 "nbformat_minor": 5
}
