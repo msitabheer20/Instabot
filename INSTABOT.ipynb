{
 "cells": [
  {
   "cell_type": "markdown",
   "id": "358121e7",
   "metadata": {},
   "source": [
    "# Project\n",
    "## InstaBot - Part 1\n",
    "\n",
    "## Necessary Imports:\n",
    "\n",
    "#### Note : All sleep and wait times are according to my network and processor speed so please consider it if the functions or excutions take more time"
   ]
  },
  {
   "cell_type": "code",
   "execution_count": 1,
   "id": "953a81a1",
   "metadata": {},
   "outputs": [],
   "source": [
    "# Necessary Imports\n",
    "# Note : All sleep and wait times are according to my network and processor speed so please consider\n",
    "# it if the functions or excutions take more time\n",
    "\n",
    "from selenium import webdriver\n",
    "from selenium.webdriver.chrome.service import Service\n",
    "from selenium.webdriver.common.by import By\n",
    "import time\n",
    "from selenium.webdriver.support.ui import WebDriverWait\n",
    "from selenium.webdriver.support import expected_conditions as EC\n",
    "import time\n",
    "from selenium.common.exceptions import NoSuchElementException\n",
    "from bs4 import BeautifulSoup\n",
    "\n",
    "service = Service(executable_path = 'G:\\coding ninjas notes\\files')\n",
    "driver = webdriver.Chrome(service = service)"
   ]
  },
  {
   "cell_type": "markdown",
   "id": "bcc0b394",
   "metadata": {},
   "source": [
    "### 1. Login to your Instagram Handle\n",
    "#####         1. Submit with sample username and password"
   ]
  },
  {
   "cell_type": "code",
   "execution_count": 2,
   "id": "f87b268e",
   "metadata": {},
   "outputs": [],
   "source": [
    "# Following is a function to login to the instagram account using username and password\n",
    "# It takes two arguments :\n",
    "# insta_username - instagram username\n",
    "# insta_password - intagram password\n",
    "\n",
    "def instagram_login(insta_username, insta_password) :\n",
    "    \n",
    "    driver.get('https://www.instagram.com/')\n",
    "    driver.maximize_window()\n",
    "    #wait\n",
    "    userbox = WebDriverWait(driver, 10).until(EC.presence_of_element_located((By.NAME, 'username')))\n",
    "    userpass = driver.find_element(By.NAME, 'password')\n",
    "\n",
    "    userbox.send_keys(insta_username)\n",
    "    userpass.send_keys(insta_password)\n",
    "\n",
    "    btn = driver.find_element(By.TAG_NAME, 'button')\n",
    "    btn.submit()\n",
    "    # wait\n",
    "    not_now = WebDriverWait(driver, 10).until(EC.presence_of_element_located((By.XPATH, '//div[@class = \"_ac8f\"]')))\n",
    "    not_now.click()\n",
    "    \n",
    "    notification = WebDriverWait(driver, 15).until(EC.presence_of_element_located((By.XPATH, '//div[@class=\"_a9-z\"]/button[2]')))\n",
    "    notification.click()\n",
    "    return"
   ]
  },
  {
   "cell_type": "code",
   "execution_count": 3,
   "id": "24dd161d",
   "metadata": {},
   "outputs": [],
   "source": [
    "# Execution of function\n",
    "instagram_login('SAMPLE_USERNAME', 'SAMPLE_PASSWORD')"
   ]
  },
  {
   "cell_type": "markdown",
   "id": "6ca96d81",
   "metadata": {},
   "source": [
    "### 2. Type for “food” in search bar and print all the names of the Instagram Handles that are displayed in list after typing “food”\n",
    "##### 1. Note : Make sure to avoid printing hashtags"
   ]
  },
  {
   "cell_type": "code",
   "execution_count": 4,
   "id": "44aa05e8",
   "metadata": {},
   "outputs": [],
   "source": [
    "# following is a function to search something in the instagram's search tab\n",
    "# it takes one argument \"word\" which is to be searched or which the user want to search\n",
    "\n",
    "def instagram_search(word) :\n",
    "    \n",
    "    try:\n",
    "        # check if search tab is open\n",
    "        search_tab = driver.find_element(By.CLASS_NAME, '_aaw6')\n",
    "        # clearing the search box if something is written\n",
    "        clear = WebDriverWait(driver, 10).until(EC.presence_of_element_located((By.CLASS_NAME, '_9-lv')))\n",
    "        clear.click()\n",
    "        \n",
    "    except NoSuchElementException :\n",
    "        # if search tab is not open then opening it\n",
    "        search = driver.find_elements(By.XPATH, \"//div[@class = 'x1n2onr6']/a/div\")\n",
    "        search[1].click()\n",
    "        time.sleep(2)\n",
    "    \n",
    "    # finding the search box element\n",
    "    search_box = driver.find_element(By.CLASS_NAME, '_aauy')\n",
    "    # sending or typing the required keyword to be searched\n",
    "    search_box.send_keys(word)\n",
    "    return"
   ]
  },
  {
   "cell_type": "code",
   "execution_count": 8,
   "id": "4013a377",
   "metadata": {},
   "outputs": [],
   "source": [
    "# Following is a function to fetch the results of a search i.e when we search something then the \n",
    "# results that comes below the search box is fetched by this function.\n",
    "# It takes one argument \"search_word\" which is the word to be searched and whose result is to be fetched\n",
    "# Note : Xpath is changing after some days so please consider this situation\n",
    "\n",
    "def search_result(search_word) :\n",
    "    # calling function first to search the required word\n",
    "    instagram_search(search_word)\n",
    "    \n",
    "    # following is the xpath for the first element of the result of the above search word\n",
    "    path1 = \"/html/body/div[2]/div/div/div[2]/div/div/div/div[1]/div[1]/div[1]/div/div/div[2]/div/div/div[2]/div[2]/div/div[1]/a/div/div/div/div[2]/div/div/span[1]/span\"\n",
    "    #waiting for the elements to come\n",
    "    wait = WebDriverWait(driver, 10).until(EC.presence_of_element_located((By.XPATH, path1)))\n",
    "\n",
    "    food_names = []\n",
    "    i = 1\n",
    "    \n",
    "    # loop to extract all the elements excluding the ones with hashtags\n",
    "    while True:\n",
    "        try:\n",
    "            j = str(i)\n",
    "            path2 = \"/html/body/div[2]/div/div/div[2]/div/div/div/div[1]/div[1]/div[1]/div/div/div[2]/div/div/div[2]/div[2]/div/div[\" + j + \"]/a/div/div/div/div[2]/div/div/span[1]/span\"\n",
    "            elem = driver.find_element(By.XPATH, path2)\n",
    "            if elem.text != '' and elem.text[0] != '#':\n",
    "                food_names.append(elem.text)\n",
    "            i = i + 1\n",
    "        except NoSuchElementException:\n",
    "            break\n",
    "\n",
    "    for i in food_names:\n",
    "        print(i)\n",
    "    return"
   ]
  },
  {
   "cell_type": "code",
   "execution_count": 9,
   "id": "de75e09b",
   "metadata": {},
   "outputs": [
    {
     "name": "stdout",
     "output_type": "stream",
     "text": [
      "foodtalkindia\n",
      "food_lunatic\n",
      "tasty.foodrecipes\n",
      "foodisnirvana\n",
      "delhifoodguide\n",
      "no_karma_food\n",
      "food\n",
      "dilsefoodie\n",
      "hollybelly_foodboutique\n",
      "foodiesdelhite\n",
      "delhieater\n",
      "foodbellydelites\n",
      "reneechopra\n",
      "yourfoodlab\n",
      "caarafood\n",
      "runaway_foodies\n",
      "foodiesince96\n",
      "delishdirection\n",
      "delhifoodblogger\n",
      "karanfoodfanatic\n",
      "foodhallindia\n",
      "foodconnectindia\n",
      "foodelhi\n",
      "komalchawlaofficial\n",
      "thisisdelhi\n",
      "delhidelites\n",
      "foodpandaindia\n",
      "foodbloggerai\n",
      "foodie_okhla\n",
      "foodporn\n",
      "foodiliciousmoments\n",
      "whaaatislife\n",
      "indianfoodfreak\n",
      "food_feels\n",
      "foodiedelhiwali\n",
      "foodbabyny\n",
      "foodiebyheart2.0\n",
      "foodmastarni\n",
      "delhi_foodaholic\n",
      "food.finista\n",
      "back2basics_foods\n",
      "insiderfood\n",
      "foodwithbackbanchers\n",
      "thefoodcultt\n",
      "sortedfood\n",
      "delhifoodprn\n",
      "delhifoodking\n",
      "food_is_lobe\n",
      "foodshoodmania\n",
      "food.darzee\n"
     ]
    }
   ],
   "source": [
    "# Execution of function\n",
    "search_result('food')"
   ]
  },
  {
   "cell_type": "markdown",
   "id": "4d6bc106",
   "metadata": {},
   "source": [
    "### 3. Searching and Opening a profile using \n",
    "#### 1. Open profile of “So Delhi” "
   ]
  },
  {
   "cell_type": "code",
   "execution_count": 45,
   "id": "2060a606",
   "metadata": {},
   "outputs": [],
   "source": [
    "# Following is a function to open an instagram's profile\n",
    "# It takes one argument \"profile_name\" which is to be opened\n",
    "\n",
    "def open_insta_profile(profile_name):\n",
    "    \n",
    "# following try catch block checks if the profile is already opened or not if it is already open then\n",
    "# reopening will not done thus saving time\n",
    "    try:\n",
    "        # Matching the already opened profile's name left to the follow button with the \"profile_name\"\n",
    "        # if the text matches then the profile is already opened else not\n",
    "        find = driver.find_element(By.XPATH, '//h2[contains(@class, \"x1lliihq\")]')\n",
    "        txt = ''\n",
    "        profile = profile_name.lower().split(' ')\n",
    "        for i in profile :\n",
    "            txt += i\n",
    "        if find.text == txt:\n",
    "            return\n",
    "        else:\n",
    "            raise NoSuchElementException\n",
    "        \n",
    "    # if profile is not opened the program jumps to here\n",
    "    except NoSuchElementException :\n",
    "        \n",
    "        instagram_search(profile_name)\n",
    "        time.sleep(3)\n",
    "        \n",
    "        # href attribute inside the anchor tag is used to interact with the element\n",
    "        h = ''\n",
    "        profile = profile_name.lower().split(' ')\n",
    "        for i in profile:\n",
    "            h += i\n",
    "        href = \"/\" + h + \"/\"\n",
    "        path3 = \"//a[@href = '\"+ href +\"']\"\n",
    "\n",
    "        name = WebDriverWait(driver, 10).until(EC.presence_of_element_located((By.XPATH, path3)))\n",
    "        time.sleep(2)\n",
    "        name.click()\n",
    "    # sometimes search tab remains open and didn't close by itself so below is to close it manually\n",
    "        search = driver.find_element(By.XPATH, \"/html/body/div[2]/div/div/div[2]/div/div/div/div[1]/div[1]/div[1]/div/div/div[1]/div/div[2]/div[2]/div/a/div\")\n",
    "        search.click()\n",
    "    return\n",
    "\n",
    "# another way to open the profile is to change the url using driver.get( ) which I used in instabot-II\n",
    "# project"
   ]
  },
  {
   "cell_type": "code",
   "execution_count": 47,
   "id": "caf8ab7c",
   "metadata": {},
   "outputs": [],
   "source": [
    "# Execution of function\n",
    "open_insta_profile('foodtalkindia')"
   ]
  },
  {
   "cell_type": "markdown",
   "id": "2f2cbbe2",
   "metadata": {},
   "source": [
    "### 4. Follow/Unfollow given handle - \n",
    "#### 1. Open the Instagram Handle of “So Delhi”\n",
    "#### 2. Start following it. Print a message if you are already following\n",
    "#### 3. After following, unfollow the instagram handle. Print a message if you have already unfollowed."
   ]
  },
  {
   "cell_type": "code",
   "execution_count": 17,
   "id": "d842b8d5",
   "metadata": {},
   "outputs": [],
   "source": [
    "# Following is the function to follow or unfollow a particular instagram handle\n",
    "# It takes two arguments :\n",
    "# profile_name - profile name to be opened\n",
    "# task - this is to follow or unfollow the handle\n",
    "# if already following then it gives \"Already Following\" message\n",
    "# if already unfollowing then it gives \"Already Unfollowing\" message\n",
    "\n",
    "def follow_unfollow(profile_name, task):\n",
    "    \n",
    "    # locating the button to follow unfollow\n",
    "    btn = WebDriverWait(driver, 10).until(EC.presence_of_element_located((By.CLASS_NAME, '_acan')))\n",
    "    if task == 'Follow' or task == 'follow':\n",
    "        if btn.text == 'Follow':\n",
    "            btn.click()\n",
    "        else:\n",
    "            print(\"Already Following !\")\n",
    "    # unfollow option comes inside a pop up box which is being located first and then clicked\n",
    "    elif task == 'Unfollow' or task == 'unfollow':\n",
    "        if btn.text == 'Following':\n",
    "            btn.click()\n",
    "#             PATH = '/html/body/div[2]/div/div/div[2]/div/div/div[1]/div/div[2]/div/div/div/div/div[2]/div/div/div/div[8]/div[1]'\n",
    "            PATH = '/html/body/div[2]/div/div/div[3]/div/div/div[1]/div/div[2]/div/div/div/div/div[2]/div/div/div/div[8]/div[1]/div/div/div/div/div/span/span'\n",
    "            unfollow = WebDriverWait(driver, 10).until(EC.presence_of_element_located((By.XPATH, PATH)))\n",
    "            unfollow.click()\n",
    "        else:\n",
    "            print(\"Already Unfollowing !\")\n",
    "    return"
   ]
  },
  {
   "cell_type": "code",
   "execution_count": null,
   "id": "f5dd6837",
   "metadata": {},
   "outputs": [],
   "source": [
    "open_insta_profile('So Delhi')"
   ]
  },
  {
   "cell_type": "code",
   "execution_count": 21,
   "id": "91fbedca",
   "metadata": {},
   "outputs": [
    {
     "name": "stdout",
     "output_type": "stream",
     "text": [
      "Already Following !\n"
     ]
    }
   ],
   "source": [
    "follow_unfollow('So Delhi', 'follow')"
   ]
  },
  {
   "cell_type": "code",
   "execution_count": 22,
   "id": "61861680",
   "metadata": {},
   "outputs": [],
   "source": [
    "follow_unfollow('So Delhi', 'unfollow')"
   ]
  },
  {
   "cell_type": "code",
   "execution_count": 23,
   "id": "f1e58fa8",
   "metadata": {},
   "outputs": [
    {
     "name": "stdout",
     "output_type": "stream",
     "text": [
      "Already Unfollowing !\n"
     ]
    }
   ],
   "source": [
    "follow_unfollow('So Delhi', 'unfollow')"
   ]
  },
  {
   "cell_type": "markdown",
   "id": "2294dede",
   "metadata": {},
   "source": [
    "### 5. Like/Unlike posts\n",
    "#### 1. Liking the top 30 posts of the ‘dilsefoodie'. Print message if you have already liked it.\n",
    "#### 2. Unliking the top 30 posts of the ‘dilsefoodie’. Print message if you have already unliked it."
   ]
  },
  {
   "cell_type": "code",
   "execution_count": 92,
   "id": "1488f6a1",
   "metadata": {},
   "outputs": [],
   "source": [
    "# Following is the function to like or unlike posts of a particular instagram handle\n",
    "# It takes two arguments :\n",
    "# profile_name - profile name to be opened\n",
    "# task - the following function is to 'like' or to 'unlike'\n",
    "# count - Number of posts to be like or unliked\n",
    "\n",
    "def like_unlike(profile_name, task, count) :\n",
    "\n",
    "    first = driver.find_element(By.XPATH, '/html/body/div[2]/div/div/div[2]/div/div/div/div[1]/div[1]/div[2]/div[2]/section/main/div/div[3]/article/div[1]/div/div[1]/div[1]/a/div[1]/div[2]')\n",
    "    first.click()\n",
    "    time.sleep(3)\n",
    "    cnt = 0\n",
    "    # BeautifulSoup is used here to get the svg tag's attribute\n",
    "    if task == 'Like' or task == 'like':\n",
    "        while True :\n",
    "            like = WebDriverWait(driver, 10).until(EC.presence_of_element_located((By.XPATH, '//span[@class = \"_aamw\"]')))\n",
    "            status = BeautifulSoup(like.get_attribute('innerHTML'), 'html.parser').svg['aria-label']\n",
    "            if status == 'Like':\n",
    "                like.click()\n",
    "            else:\n",
    "                print('Already Liked!')\n",
    "            cnt += 1\n",
    "            if cnt >= count:\n",
    "                break\n",
    "            next_post = driver.find_element(By.CLASS_NAME, '_aaqg')\n",
    "            next_post.click()\n",
    "    elif task == 'Unlike' or task == 'unlike':\n",
    "        while True :\n",
    "            unlike = WebDriverWait(driver, 10).until(EC.presence_of_element_located((By.XPATH, '//span[@class = \"_aamw\"]')))\n",
    "            status = BeautifulSoup(unlike.get_attribute('innerHTML'), 'html.parser').svg['aria-label']\n",
    "            if status == 'Unlike':\n",
    "                unlike.click()\n",
    "            else:\n",
    "                print('Already Unliked!')\n",
    "            cnt+=1\n",
    "            if cnt >= count:\n",
    "                break\n",
    "            next_post = driver.find_element(By.CLASS_NAME, '_aaqg')\n",
    "            next_post.click()\n",
    "            \n",
    "    close = driver.find_element(By.XPATH, '/html/body/div[2]/div/div/div[3]/div/div/div[1]/div/div[2]/div/div')\n",
    "    close.click()\n",
    "    return"
   ]
  },
  {
   "cell_type": "code",
   "execution_count": 88,
   "id": "fa227515",
   "metadata": {},
   "outputs": [],
   "source": [
    "# Execution of function\n",
    "open_insta_profile('dilsefoodie')"
   ]
  },
  {
   "cell_type": "code",
   "execution_count": 93,
   "id": "d7ad04c5",
   "metadata": {},
   "outputs": [
    {
     "name": "stdout",
     "output_type": "stream",
     "text": [
      "Already Liked!\n",
      "Already Liked!\n",
      "Already Liked!\n",
      "Already Liked!\n",
      "Already Liked!\n"
     ]
    }
   ],
   "source": [
    "# Note : If there comes any pop up or the function performs repeated posts liking please remove the pop up \n",
    "# and again execute it or stop the function and again execute the function because sometimes \n",
    "# there comes some issue with execution but sometimes its smooth\n",
    "\n",
    "like_unlike('dilsefoodie', 'like', 30)"
   ]
  },
  {
   "cell_type": "code",
   "execution_count": 94,
   "id": "e35233aa",
   "metadata": {},
   "outputs": [],
   "source": [
    "like_unlike('dilsefoodie', 'unlike', 30)"
   ]
  },
  {
   "cell_type": "markdown",
   "id": "29b3b535",
   "metadata": {},
   "source": [
    "### 6. Extract list of followers\n",
    "#### 1. Extract the usernames of the first 500 followers of ‘foodtalkindia’ and ‘sodelhi’.\n",
    "#### 2. Now print all the followers of “foodtalkindia” that you are following but those who don’t follow you."
   ]
  },
  {
   "cell_type": "code",
   "execution_count": 95,
   "id": "e194b71a",
   "metadata": {},
   "outputs": [],
   "source": [
    "# Following function is to find the follower of a particular instagram handle or profile\n",
    "# It takes two arguments :\n",
    "# profile_name - profile name to be opened\n",
    "# count - Number of followers to be fetched\n",
    "\n",
    "def find_followers(profile_name, count) :\n",
    "    \n",
    "    cnt = count\n",
    "    time.sleep(2)\n",
    "    # locating the followers button which shows a list of all the followers of some profile\n",
    "    btn = driver.find_element(By.XPATH, '//ul[contains(@class, \"x78zum5\")]/li[2]')\n",
    "    btn.click()\n",
    "    \n",
    "    # locating the followers list\n",
    "    li = driver.find_elements(By.XPATH, '//div[contains(@class, \"_aano\")]/div/div/div')\n",
    "\n",
    "    followers = []\n",
    "    curr_len = len(li)\n",
    "    \n",
    "    follower_box = WebDriverWait(driver,10).until(EC.presence_of_element_located((By.CLASS_NAME, \"_aano\")))\n",
    "\n",
    "    while True:\n",
    "        if len(li) >= cnt:\n",
    "            break\n",
    "        # below code scrolling is used because the pop up box should be in focus to be able to scroll\n",
    "        # normal window.scrollBy or scrollTo will not work in this case \n",
    "        driver.execute_script('arguments[0].scrollTop=arguments[0].scrollHeight', follower_box)\n",
    "        time.sleep(3)\n",
    "        li = driver.find_elements(By.XPATH, '//div[contains(@class, \"_aano\")]/div/div/div')\n",
    "        # if after scrolling the length of 'li' list doesn't change that means that no more elements are\n",
    "        # present thus breaking the loop \n",
    "        if len(li) == curr_len:\n",
    "            break\n",
    "        curr_len = len(li)\n",
    "    \n",
    "    if len(li) < cnt :\n",
    "        cnt = len(li)\n",
    "    \n",
    "    # following for loop ensure that the name of the profile itself doesn't comes in resultant list\n",
    "    # because html is changing for example at some places div is present and at some places it isn't\n",
    "    for i in li[:cnt]:\n",
    "        follower = i.text.split('\\n')[0]\n",
    "        txt = ''\n",
    "        profile = profile_name.lower().split(' ')\n",
    "        for i in profile:\n",
    "            txt += i\n",
    "        if follower != txt:\n",
    "            followers.append(follower)\n",
    "        \n",
    "    # button to close the follower list \n",
    "    btn = driver.find_elements(By.CLASS_NAME, '_abl-')\n",
    "    btn[1].click()\n",
    "        \n",
    "    return followers"
   ]
  },
  {
   "cell_type": "code",
   "execution_count": 98,
   "id": "0981abc3",
   "metadata": {},
   "outputs": [],
   "source": [
    "# Note : If there comes any issue in executing the function please navigate to the home page  or close \n",
    "# pop up if any and again execute this function\n",
    "\n",
    "open_insta_profile('So Delhi')\n",
    "names = find_followers('So Delhi', 500)\n",
    "ind = 1\n",
    "for i in names:\n",
    "    print(ind, i)\n",
    "    ind += 1"
   ]
  },
  {
   "cell_type": "code",
   "execution_count": 249,
   "id": "86104883",
   "metadata": {},
   "outputs": [
    {
     "name": "stdout",
     "output_type": "stream",
     "text": [
      "1 yuvrajcho\n",
      "2 thesipradash\n",
      "3 __twentyfouur\n",
      "4 user.1112220001023973\n",
      "5 priyanka32723\n",
      "6 adityaaa.8101\n",
      "7 alpeshshah__\n",
      "8 imanwar_khan\n",
      "9 iamarjunvaishnav\n",
      "10 aryan_chopra49\n",
      "11 gulnaz__ahemad_098\n",
      "12 cheflife877\n",
      "13 deepika_agrawal22\n",
      "14 delightful_ride\n",
      "15 warmuptheoven\n",
      "16 fatehkhurana\n",
      "17 tanu_cooking.321\n",
      "18 kgaganmeet\n",
      "19 griteekushwaha\n",
      "20 fine_fitness_0075\n",
      "21 jas.bhullar\n",
      "22 architect_jyotisingh\n",
      "23 delicaciesbykinjal\n",
      "24 kirti.soni.73\n",
      "25 lartisaneindia\n",
      "26 iamnegi\n",
      "27 marilynrosepinto\n",
      "28 nikhilagarwl18\n",
      "29 ninefurlongs\n",
      "30 pallawhee\n",
      "31 _forktoyoursoup\n",
      "32 raneesachdevbatra\n",
      "33 rancid_butter\n",
      "34 rdias_official\n",
      "35 rheasaupin\n",
      "36 ruhi_tomar0001\n",
      "37 sonukumar.kmr.00001\n",
      "38 sahil_jatav_up_53\n",
      "39 sahilmehta2700\n",
      "40 samir_av68\n",
      "41 savitaahirwar962\n",
      "42 shinyagrawal9\n",
      "43 sagwan1249\n",
      "44 veraisongb\n",
      "45 sushmapatawari_108\n",
      "46 _thericebowl_\n",
      "47 venkateshchilkewar767\n",
      "48 vrishtijainn\n",
      "49 gemini.bitchhhh\n",
      "50 mst_pice2311\n",
      "51 309K others\n"
     ]
    }
   ],
   "source": [
    "# Note : Since the foodtalkindia has its follower list private that's why only limited number of \n",
    "# followers are visisble and all those followers are being printed here \n",
    "\n",
    "open_insta_profile('foodtalkindia')\n",
    "names = find_followers('foodtalkindia', 500)\n",
    "ind = 1\n",
    "for i in names:\n",
    "    print(ind, i)\n",
    "    ind += 1"
   ]
  },
  {
   "cell_type": "code",
   "execution_count": 99,
   "id": "0def9671",
   "metadata": {},
   "outputs": [],
   "source": [
    "# Following function is to find the handles that a particular instagram handle or profile is \n",
    "# following.\n",
    "\n",
    "def following_List() :\n",
    "    \n",
    "    following = []\n",
    "    time.sleep(5)\n",
    "    # locating button to open the list of following profiles\n",
    "    btn = driver.find_element(By.XPATH, '//ul[contains(@class, \"x78zum5\")]/li[3]')\n",
    "    btn.click()\n",
    "    \n",
    "    follower_box = WebDriverWait(driver,10).until(EC.presence_of_element_located((By.CLASS_NAME, \"_aano\")))\n",
    "    li = driver.find_elements(By.XPATH, '//div[contains(@class, \"_aano\")]/div/div/div')\n",
    "    \n",
    "    curr_len = len(li)\n",
    "    \n",
    "    while True:\n",
    "        driver.execute_script('arguments[0].scrollTop=arguments[0].scrollHeight', follower_box)\n",
    "        time.sleep(2)\n",
    "        li = driver.find_elements(By.XPATH, '//div[contains(@class, \"_aano\")]/div/div/div')\n",
    "        if len(li) == curr_len:\n",
    "            break\n",
    "        curr_len = len(li)\n",
    "        \n",
    "    for i in li:\n",
    "        profile = i.text.split('\\n')[0]\n",
    "        following.append(profile)\n",
    "        \n",
    "    btn = driver.find_elements(By.CLASS_NAME, '_abl-')\n",
    "    btn[1].click()\n",
    "    \n",
    "    return following"
   ]
  },
  {
   "cell_type": "code",
   "execution_count": 101,
   "id": "d1f8e3a4",
   "metadata": {},
   "outputs": [],
   "source": [
    "open_insta_profile(\"USER_NAME\") # Enter your user name here\n",
    "myfollowing = following_List()\n",
    "myfollowing = set(myfollowing)"
   ]
  },
  {
   "cell_type": "code",
   "execution_count": 102,
   "id": "5ba5955e",
   "metadata": {},
   "outputs": [],
   "source": [
    "open_insta_profile('foodtalkindia')\n",
    "foodtalkindia = find_followers('foodtalkindia', 100)\n",
    "foodtalkindia = set(foodtalkindia)"
   ]
  },
  {
   "cell_type": "code",
   "execution_count": 103,
   "id": "e58d41aa",
   "metadata": {},
   "outputs": [],
   "source": [
    "open_insta_profile('USER_NAME') # Enter your user name here\n",
    "userName = find_followers('USER_NAME', 100) # Enter you user name here\n",
    "userName = set(ologin)"
   ]
  },
  {
   "cell_type": "code",
   "execution_count": 104,
   "id": "79e0d177",
   "metadata": {},
   "outputs": [
    {
     "name": "stdout",
     "output_type": "stream",
     "text": [
      "Not Found!\n"
     ]
    }
   ],
   "source": [
    "# intersecting foodtalkindia and myfollowing helps to get the list of those profiles that I follow\n",
    "\n",
    "set1 = foodtalkindia.intersection(myfollowing)\n",
    "\n",
    "# intersecting set1 and ologin helps to get the list of those profiles that I follow but they dont \n",
    "# follow me\n",
    "\n",
    "set2 = set1.intersection(userName)\n",
    "if len(set2) != 0:\n",
    "    for i in set2:\n",
    "        print(i)\n",
    "else:\n",
    "    print(\"Not Found!\")"
   ]
  },
  {
   "cell_type": "markdown",
   "id": "b6c4a833",
   "metadata": {},
   "source": [
    "### 7. Check the story of ‘coding.ninjas’. Consider the following Scenarios and print error messages accordingly -\n",
    "#### 1. If You have already seen the story.\n",
    "#### 2. Or The user has no story.\n",
    "#### 3. Or View the story if not yet seen."
   ]
  },
  {
   "cell_type": "code",
   "execution_count": 110,
   "id": "b269306d",
   "metadata": {},
   "outputs": [],
   "source": [
    "# Following function is to watch the Story of a particular instagram handle or profile\n",
    "# It takes one argument :\n",
    "# profile_name - profile name to be opened whose story is to be watched\n",
    "# it shows a message \"Story Not available or Already Seen\" if story is either watched or not available\n",
    "\n",
    "def watch_story(profile_name) :\n",
    "    \n",
    "    driver.get('https://www.instagram.com/'+profile_name+'/')\n",
    "    time.sleep(5)\n",
    "    # since height of profile circle reduces after watching the story that why using it we can identify if\n",
    "    # the story is present or already watched or not\n",
    "    circle_size = driver.find_element(By.CLASS_NAME, '_aarh').get_attribute('height')\n",
    "    if int(circle_size) == 166:\n",
    "        print(\"Story Not available or Already Seen\")\n",
    "    else:\n",
    "        print(\"Viewing Story...\")\n",
    "        time.sleep(2)\n",
    "        driver.find_element(By.CLASS_NAME, '_aarf').click()\n",
    "    return"
   ]
  },
  {
   "cell_type": "code",
   "execution_count": 111,
   "id": "dcdb910f",
   "metadata": {},
   "outputs": [
    {
     "name": "stdout",
     "output_type": "stream",
     "text": [
      "Viewing Story...\n"
     ]
    }
   ],
   "source": [
    "# Execution of function\n",
    "watch_story('dilsefoodie')"
   ]
  },
  {
   "cell_type": "code",
   "execution_count": null,
   "id": "2b9d6920",
   "metadata": {},
   "outputs": [],
   "source": []
  }
 ],
 "metadata": {
  "kernelspec": {
   "display_name": "Python 3 (ipykernel)",
   "language": "python",
   "name": "python3"
  },
  "language_info": {
   "codemirror_mode": {
    "name": "ipython",
    "version": 3
   },
   "file_extension": ".py",
   "mimetype": "text/x-python",
   "name": "python",
   "nbconvert_exporter": "python",
   "pygments_lexer": "ipython3",
   "version": "3.9.13"
  }
 },
 "nbformat": 4,
 "nbformat_minor": 5
}
